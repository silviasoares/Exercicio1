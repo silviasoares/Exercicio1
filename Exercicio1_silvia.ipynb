{
 "cells": [
  {
   "cell_type": "code",
   "execution_count": 5,
   "metadata": {},
   "outputs": [
    {
     "name": "stdin",
     "output_type": "stream",
     "text": [
      "Informe um numero: 3\n",
      "Informe um numero: 4\n",
      "Informe um numero: 5\n",
      "Informe um numero: 6\n"
     ]
    },
    {
     "name": "stdout",
     "output_type": "stream",
     "text": [
      "25\n",
      "22\n"
     ]
    }
   ],
   "source": [
    "## 1. Uma empresa quer transmitir dados pelo telefone, mas está preocupada com a interceptação telefônica. \n",
    "#Todos os seus dados são transmitidos  como inteiros de quatro dígitos. Ela pediu para que você escreva um programa que \n",
    "#criptografe seus dados, para que eles possam ser transmitidos com mais segurança. Seu aplicativo deve ler um inteiro de \n",
    "#quatro dígitos fornecidos pelo usuário e criptografá-lo da seguinte forma: substitua cada dígitos por \n",
    "#(a soma desse dígitos mais 7) módulo 10. Em seguida, troque o primeiro dígito pelo terceiro e troque o segundo dígito \n",
    "#pelo quarto e imprima o inteiro criptografado.\n",
    "#Em seguida, troque o primeiro dígito pelo terceiro e troque o segundo dígito pelo quarto e imprima o inteiro criptografado.\n",
    "numero1 = int(input('Informe um numero:'))    \n",
    "numero2 = int(input('Informe um numero:'))    \n",
    "numero3 = int(input('Informe um numero:'))  \n",
    "numero4 = int(input('Informe um numero:'))  \n",
    "resultado1 = numero1 \n",
    "resultado2 = numero2\n",
    "resultado3 = numero3\n",
    "resultado4 = numero4\n",
    "total = resultado1 + resultado2 + resultado3 + resultado4 + 7\n",
    "print(total)\n",
    "resultado1 = numero3\n",
    "resultado2 = numero4\n",
    "total2 = resultado1 + resultado2 + resultado3 + resultado4\n",
    "print(total2)"
   ]
  },
  {
   "cell_type": "code",
   "execution_count": 6,
   "metadata": {},
   "outputs": [
    {
     "name": "stdout",
     "output_type": "stream",
     "text": [
      "0 é par? Verdadeiro\n",
      "1 é par? Falso\n",
      "2 é par? Verdadeiro\n",
      "3 é par? Falso\n",
      "4 é par? Verdadeiro\n",
      "5 é par? Falso\n",
      "6 é par? Verdadeiro\n",
      "7 é par? Falso\n",
      "8 é par? Verdadeiro\n",
      "9 é par? Falso\n",
      "10 é par? Verdadeiro\n"
     ]
    }
   ],
   "source": [
    "# 2. Implemente a função par que retorna verdadeiro se um número inteiro passado como parâmetro for par ou falso caso \n",
    "#ele seja ímpar. Teste seu programa chamando a função para verificar os números de 0 à 10.\n",
    "def par(numero):\n",
    "    if numero % 2 == 0:\n",
    "        return(\"Verdadeiro\")\n",
    "    else:\n",
    "        return(\"Falso\")\n",
    "    \n",
    "for i in range(11):\n",
    "    print(str(i) + ' é par? ' + par(i))"
   ]
  },
  {
   "cell_type": "code",
   "execution_count": 7,
   "metadata": {},
   "outputs": [
    {
     "name": "stdin",
     "output_type": "stream",
     "text": [
      "Informe o lado 1 3\n",
      "Informe o lado 2 4\n",
      "Informe o lado 3 5\n"
     ]
    },
    {
     "name": "stdout",
     "output_type": "stream",
     "text": [
      "Seu trinângulo é Escaleno\n"
     ]
    }
   ],
   "source": [
    "#3. Escreva um programa que leia 3 números inteiros referente ao comprimento dos lados de um triângulo e classifique como: \n",
    "#triângulo equilátero, isósceles ou escaleno.\n",
    "# Solução Exercício 03\n",
    "\n",
    "x = int(input('Informe o lado 1'))\n",
    "y = int(input('Informe o lado 2'))\n",
    "z = int(input('Informe o lado 3'))\n",
    "\n",
    "if (x == y):\n",
    "    if (y == z):\n",
    "        print('Seu trinângulo é Equilátero')\n",
    "    else:\n",
    "        print('Seu trinângulo é Isósceles')\n",
    "elif (x == z):\n",
    "    print('Seu trinângulo é Isósceles')\n",
    "else:\n",
    "    print('Seu trinângulo é Escaleno')"
   ]
  },
  {
   "cell_type": "code",
   "execution_count": 8,
   "metadata": {},
   "outputs": [
    {
     "name": "stdin",
     "output_type": "stream",
     "text": [
      "Digite um numero: 4\n"
     ]
    },
    {
     "name": "stdout",
     "output_type": "stream",
     "text": [
      "-\n",
      "0\n",
      "-\n",
      "2\n",
      "-\n",
      "4\n"
     ]
    }
   ],
   "source": [
    "#4. Escreva um programa que aceita um número como entrada e insere hífens (-) entre dois números pares. \n",
    "#Por exemplo, se receber o número 02368859 como entrada, a saída do programa deverá ser: 0-236-8-859.\n",
    "fim = int(input(\"Digite um numero:\"))\n",
    "x = 0\n",
    "while x <= fim:\n",
    "     if x % 2 == 0:\n",
    "         print ('-')\n",
    "         print(x) \n",
    "     x = x + 1\n",
    "    "
   ]
  },
  {
   "cell_type": "code",
   "execution_count": 10,
   "metadata": {},
   "outputs": [
    {
     "name": "stdin",
     "output_type": "stream",
     "text": [
      "Informe uma sequencia de numeros/letras/caracteres:  857345jkjhdjfghd2222###\n"
     ]
    },
    {
     "name": "stdout",
     "output_type": "stream",
     "text": [
      "2 aparece 4 vezes.\n"
     ]
    }
   ],
   "source": [
    "#5. Escreva um programa que encontre o item mais frequente de um vetor. Exemplo: [2, 7, 7, 7, ‘#’, ‘#’, ‘#’, ‘@’, 3, ‘#’, 6] \n",
    "#// Saída: # aparece 4 vezes\n",
    "\n",
    "itens = input('Informe uma sequencia de numeros/letras/caracteres: ')\n",
    "lista_itens = list(itens)\n",
    "pos_maior = int(0)\n",
    "quant_maior = int(0)\n",
    "\n",
    "for i in range(len(lista_itens)):\n",
    "    if lista_itens.count(lista_itens[i]) > quant_maior:\n",
    "        quant_maior = lista_itens.count(lista_itens[i])\n",
    "        pos_maior = i\n",
    "\n",
    "print(lista_itens[pos_maior] + ' aparece ' + str(quant_maior) + ' vezes.')"
   ]
  },
  {
   "cell_type": "code",
   "execution_count": 11,
   "metadata": {},
   "outputs": [
    {
     "name": "stdin",
     "output_type": "stream",
     "text": [
      "Numero:  56784564\n"
     ]
    },
    {
     "name": "stdout",
     "output_type": "stream",
     "text": [
      "56784564 não é um número de Armstrong\n"
     ]
    }
   ],
   "source": [
    "#6. Um número de Armstrong de 3 dígitos é um inteiro pelo qual a soma dos cubos dos seus dígitos é igual ao seu número. \n",
    "#Por exemplo: o número inteiro 371 é um número de Armstrong, porque 3³ + 7³ + 1³ = 371. Escreva um programa que verifique \n",
    "#se um número de 3 dígitos fornecido como entrada é um número de Armstrong.\n",
    "numero = input('Numero: ')\n",
    "lista_numero = list(numero)\n",
    "quant_num = len(lista_numero)\n",
    "multiplica = int(lista_numero[0])**3 + int(lista_numero[1])**3 + int(lista_numero[2])**3\n",
    "\n",
    "if int(multiplica) == int(numero):\n",
    "    print(numero + ' é um número de Armstrong')\n",
    "else:\n",
    "    print(numero + ' não é um número de Armstrong')"
   ]
  },
  {
   "cell_type": "code",
   "execution_count": 14,
   "metadata": {},
   "outputs": [
    {
     "name": "stdin",
     "output_type": "stream",
     "text": [
      "Informe uma palavra:  ciencia de dados\n"
     ]
    },
    {
     "name": "stdout",
     "output_type": "stream",
     "text": [
      "A palavra tem 7 vogais\n"
     ]
    }
   ],
   "source": [
    "#7. Escreva uma função ue receba uma string e conte o número de vogais dentro dela, por exemplo: entrada: ‘Ciência de Dados’,\n",
    "#saída: 7 vogais\n",
    "\n",
    "entrada = input('Informe uma palavra: ')\n",
    "vogais = ['A', 'E', 'I', 'O', 'U', 'a', 'e', 'i', 'o', 'u']\n",
    "contador = 0\n",
    "\n",
    "for p in entrada:\n",
    "    for vogal in vogais:\n",
    "        if (p == vogal):\n",
    "            contador = contador + 1\n",
    "\n",
    "print('A palavra tem ' + str(contador) + ' vogais')"
   ]
  },
  {
   "cell_type": "code",
   "execution_count": null,
   "metadata": {},
   "outputs": [],
   "source": [
    "#8. Implemente em Python o algoritmo de Busca Binária\n",
    "# Solução Exercício 08\n",
    "\n",
    "lista = [1,4,5,7,4,3,3,6,7,8,9]\n",
    "\n",
    "def busca_binaria(lista, numero):\n",
    "    min = 0\n",
    "    max = len(lista)-1\n",
    "    posicao = (min+max)//2\n",
    "    while (lista[posicao] != numero):\n",
    "        if (lista[posicao] > numero):\n",
    "            max = posicao - 1\n",
    "        else:\n",
    "            min = posicao + 1\n",
    "        posicao = (min+max)//2\n",
    "    return posicao\n",
    "\n",
    "numero = 89\n",
    "resultado = busca_binaria(lista, numero)\n",
    "\n",
    "print('Este é um número de Armstrong.')"
   ]
  },
  {
   "cell_type": "code",
   "execution_count": 1,
   "metadata": {},
   "outputs": [
    {
     "name": "stdout",
     "output_type": "stream",
     "text": [
      "<class 'list'>\n"
     ]
    }
   ],
   "source": [
    "#9. Escreva uma função que receba algum valor como parâmetro e retorne seu tipo\n",
    "\n",
    "def tipo(valor):\n",
    "    return type(valor)\n",
    "\n",
    "valor = [\"teste\"]\n",
    "\n",
    "print(tipo(valor))"
   ]
  },
  {
   "cell_type": "code",
   "execution_count": 2,
   "metadata": {},
   "outputs": [
    {
     "name": "stdin",
     "output_type": "stream",
     "text": [
      "Informe a listagem:  563457675\n"
     ]
    },
    {
     "name": "stdout",
     "output_type": "stream",
     "text": [
      "563457675\n",
      "['4', '7']\n"
     ]
    }
   ],
   "source": [
    "#10. Escreva uma função que receba um lista numérica como parâmetro e retorne os segundos maiores e menores números da \n",
    "#sequência, por exemplo: entrada [1, 2, 3, 4, 5, 6, 7, 8, 9], saída [2, 8].\n",
    "listagem = input('Informe a listagem: ')\n",
    "\n",
    "def smenor_smaior(listagem):\n",
    "    ordenada = sorted(listagem)\n",
    "    resultado = [ordenada[1], ordenada[len(ordenada)-2]]\n",
    "    return resultado\n",
    "\n",
    "print(listagem)\n",
    "print(smenor_smaior(listagem))"
   ]
  },
  {
   "cell_type": "code",
   "execution_count": 3,
   "metadata": {},
   "outputs": [
    {
     "name": "stdin",
     "output_type": "stream",
     "text": [
      "Informe o Numero:  567899\n"
     ]
    },
    {
     "name": "stdout",
     "output_type": "stream",
     "text": [
      "998765\n"
     ]
    }
   ],
   "source": [
    "#11.  Escreva uma função que receba um número inteiro como entrada (px.: 32243) e retorne o número invertido (px.: 34223).\n",
    "valor = input('Informe o Numero: ')\n",
    "lista_numero = list(valor)\n",
    "valor_inverso = ''\n",
    "\n",
    "for i in range((len(lista_numero) - 1), -1, -1):\n",
    "    valor_inverso += lista_numero[i]\n",
    "    \n",
    "print(valor_inverso)"
   ]
  }
 ],
 "metadata": {
  "kernelspec": {
   "display_name": "Python 3",
   "language": "python",
   "name": "python3"
  },
  "language_info": {
   "codemirror_mode": {
    "name": "ipython",
    "version": 3
   },
   "file_extension": ".py",
   "mimetype": "text/x-python",
   "name": "python",
   "nbconvert_exporter": "python",
   "pygments_lexer": "ipython3",
   "version": "3.7.1"
  }
 },
 "nbformat": 4,
 "nbformat_minor": 2
}
